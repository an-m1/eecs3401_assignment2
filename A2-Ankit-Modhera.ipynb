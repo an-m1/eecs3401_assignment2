{
 "cells": [
  {
   "cell_type": "markdown",
   "id": "be2f0391-3fe7-4222-a496-d852f693d201",
   "metadata": {},
   "source": [
    "Task 1 (5 Marks): Load the datase"
   ]
  },
  {
   "cell_type": "code",
   "execution_count": 1,
   "id": "02b1e797-f564-411b-9d8d-f3c7aba696ee",
   "metadata": {},
   "outputs": [
    {
     "name": "stdout",
     "output_type": "stream",
     "text": [
      "       age         workclass  fnlwgt   education  education-num  \\\n",
      "0       39         State-gov   77516   Bachelors             13   \n",
      "1       50  Self-emp-not-inc   83311   Bachelors             13   \n",
      "2       38           Private  215646     HS-grad              9   \n",
      "3       53           Private  234721        11th              7   \n",
      "4       28           Private  338409   Bachelors             13   \n",
      "...    ...               ...     ...         ...            ...   \n",
      "32556   27           Private  257302  Assoc-acdm             12   \n",
      "32557   40           Private  154374     HS-grad              9   \n",
      "32558   58           Private  151910     HS-grad              9   \n",
      "32559   22           Private  201490     HS-grad              9   \n",
      "32560   52      Self-emp-inc  287927     HS-grad              9   \n",
      "\n",
      "           marital-status         occupation   relationship   race     sex  \\\n",
      "0           Never-married       Adm-clerical  Not-in-family  White    Male   \n",
      "1      Married-civ-spouse    Exec-managerial        Husband  White    Male   \n",
      "2                Divorced  Handlers-cleaners  Not-in-family  White    Male   \n",
      "3      Married-civ-spouse  Handlers-cleaners        Husband  Black    Male   \n",
      "4      Married-civ-spouse     Prof-specialty           Wife  Black  Female   \n",
      "...                   ...                ...            ...    ...     ...   \n",
      "32556  Married-civ-spouse       Tech-support           Wife  White  Female   \n",
      "32557  Married-civ-spouse  Machine-op-inspct        Husband  White    Male   \n",
      "32558             Widowed       Adm-clerical      Unmarried  White  Female   \n",
      "32559       Never-married       Adm-clerical      Own-child  White    Male   \n",
      "32560  Married-civ-spouse    Exec-managerial           Wife  White  Female   \n",
      "\n",
      "       capital-gain  capital-loss  hours-per-week native-country income  \n",
      "0              2174             0              40  United-States  <=50K  \n",
      "1                 0             0              13  United-States  <=50K  \n",
      "2                 0             0              40  United-States  <=50K  \n",
      "3                 0             0              40  United-States  <=50K  \n",
      "4                 0             0              40           Cuba  <=50K  \n",
      "...             ...           ...             ...            ...    ...  \n",
      "32556             0             0              38  United-States  <=50K  \n",
      "32557             0             0              40  United-States   >50K  \n",
      "32558             0             0              40  United-States  <=50K  \n",
      "32559             0             0              20  United-States  <=50K  \n",
      "32560         15024             0              40  United-States   >50K  \n",
      "\n",
      "[32561 rows x 15 columns]\n"
     ]
    }
   ],
   "source": [
    "import pandas as pd\n",
    "\n",
    "# TASK 1\n",
    "\n",
    "url = \"https://archive.ics.uci.edu/ml/machine-learning-databases/adult/adult.data\"\n",
    "\n",
    "# Define column names\n",
    "column_names = ['age', 'workclass', 'fnlwgt', 'education', 'education-num', 'marital-status',\n",
    "                'occupation', 'relationship', 'race', 'sex', 'capital-gain', 'capital-loss',\n",
    "                'hours-per-week', 'native-country', 'income']\n",
    "\n",
    "# Load the dataset\n",
    "data = pd.read_csv(url, names=column_names, skipinitialspace=True)\n",
    "\n",
    "\n",
    "# print(data.head()) # print first five lines of data frame\n",
    "print(data) # print the whole data frame (with limitations as dataset is too large).\n"
   ]
  },
  {
   "cell_type": "markdown",
   "id": "ff8c5fda-f641-4bee-aa20-d47804c4d9be",
   "metadata": {},
   "source": [
    "Task 2 (5 Marks): Take a quick look at the data structure (i.e., X) using .head(), .info(), .describe(), and .shape."
   ]
  },
  {
   "cell_type": "code",
   "execution_count": 2,
   "id": "1e4ea978-15bb-4767-8929-6d7dd88c7e06",
   "metadata": {},
   "outputs": [
    {
     "name": "stdout",
     "output_type": "stream",
     "text": [
      "\n",
      "TASK 2\n",
      "\n",
      "\n",
      "\n",
      "First few rows:\n",
      "   age         workclass  fnlwgt  education  education-num  \\\n",
      "0   39         State-gov   77516  Bachelors             13   \n",
      "1   50  Self-emp-not-inc   83311  Bachelors             13   \n",
      "2   38           Private  215646    HS-grad              9   \n",
      "3   53           Private  234721       11th              7   \n",
      "4   28           Private  338409  Bachelors             13   \n",
      "\n",
      "       marital-status         occupation   relationship   race     sex  \\\n",
      "0       Never-married       Adm-clerical  Not-in-family  White    Male   \n",
      "1  Married-civ-spouse    Exec-managerial        Husband  White    Male   \n",
      "2            Divorced  Handlers-cleaners  Not-in-family  White    Male   \n",
      "3  Married-civ-spouse  Handlers-cleaners        Husband  Black    Male   \n",
      "4  Married-civ-spouse     Prof-specialty           Wife  Black  Female   \n",
      "\n",
      "   capital-gain  capital-loss  hours-per-week native-country income  \n",
      "0          2174             0              40  United-States  <=50K  \n",
      "1             0             0              13  United-States  <=50K  \n",
      "2             0             0              40  United-States  <=50K  \n",
      "3             0             0              40  United-States  <=50K  \n",
      "4             0             0              40           Cuba  <=50K  \n",
      "\n",
      "DataFrame Info:\n",
      "<class 'pandas.core.frame.DataFrame'>\n",
      "RangeIndex: 32561 entries, 0 to 32560\n",
      "Data columns (total 15 columns):\n",
      " #   Column          Non-Null Count  Dtype \n",
      "---  ------          --------------  ----- \n",
      " 0   age             32561 non-null  int64 \n",
      " 1   workclass       32561 non-null  object\n",
      " 2   fnlwgt          32561 non-null  int64 \n",
      " 3   education       32561 non-null  object\n",
      " 4   education-num   32561 non-null  int64 \n",
      " 5   marital-status  32561 non-null  object\n",
      " 6   occupation      32561 non-null  object\n",
      " 7   relationship    32561 non-null  object\n",
      " 8   race            32561 non-null  object\n",
      " 9   sex             32561 non-null  object\n",
      " 10  capital-gain    32561 non-null  int64 \n",
      " 11  capital-loss    32561 non-null  int64 \n",
      " 12  hours-per-week  32561 non-null  int64 \n",
      " 13  native-country  32561 non-null  object\n",
      " 14  income          32561 non-null  object\n",
      "dtypes: int64(6), object(9)\n",
      "memory usage: 3.7+ MB\n",
      "None\n",
      "\n",
      "Descriptive Statistics:\n",
      "                age        fnlwgt  education-num  capital-gain  capital-loss  \\\n",
      "count  32561.000000  3.256100e+04   32561.000000  32561.000000  32561.000000   \n",
      "mean      38.581647  1.897784e+05      10.080679   1077.648844     87.303830   \n",
      "std       13.640433  1.055500e+05       2.572720   7385.292085    402.960219   \n",
      "min       17.000000  1.228500e+04       1.000000      0.000000      0.000000   \n",
      "25%       28.000000  1.178270e+05       9.000000      0.000000      0.000000   \n",
      "50%       37.000000  1.783560e+05      10.000000      0.000000      0.000000   \n",
      "75%       48.000000  2.370510e+05      12.000000      0.000000      0.000000   \n",
      "max       90.000000  1.484705e+06      16.000000  99999.000000   4356.000000   \n",
      "\n",
      "       hours-per-week  \n",
      "count    32561.000000  \n",
      "mean        40.437456  \n",
      "std         12.347429  \n",
      "min          1.000000  \n",
      "25%         40.000000  \n",
      "50%         40.000000  \n",
      "75%         45.000000  \n",
      "max         99.000000  \n",
      "\n",
      "Shape of the DataFrame:\n",
      "(32561, 15)\n"
     ]
    }
   ],
   "source": [
    "#  TASK 2\n",
    "print(\"\\nTASK 2\\n\")\n",
    "\n",
    "# Display the first five rows\n",
    "print(\"\\n\\nFirst few rows:\")\n",
    "print(data.head())\n",
    "\n",
    "# DataFrame information\n",
    "print(\"\\nDataFrame Info:\")\n",
    "print(data.info())\n",
    "\n",
    "# Descriptive statistics\n",
    "print(\"\\nDescriptive Statistics:\")\n",
    "print(data.describe())\n",
    "\n",
    "# Shape of the DataFrame\n",
    "print(\"\\nShape of the DataFrame:\")\n",
    "print(data.shape)"
   ]
  },
  {
   "cell_type": "markdown",
   "id": "a09947d3-da08-41f6-bc88-64683dd7c333",
   "metadata": {},
   "source": [
    "Task 2.1: Plot a histogram of the data."
   ]
  },
  {
   "cell_type": "code",
   "execution_count": 3,
   "id": "165429af-75ef-4343-9c20-f6d308561d62",
   "metadata": {},
   "outputs": [
    {
     "name": "stdout",
     "output_type": "stream",
     "text": [
      "\n",
      "\n",
      "TASK 2.1 Histogram: \n",
      "(a pop-up should appear)\n"
     ]
    },
    {
     "data": {
      "image/png": "[encoded data removed]",
      "text/plain": [
       "<Figure size 640x480 with 1 Axes>"
      ]
     },
     "metadata": {},
     "output_type": "display_data"
    }
   ],
   "source": [
    "import matplotlib.pyplot as plt # Used to make a histogram for TASK 2.1 \n",
    "\n",
    "# TASK 2.1\n",
    "print(\"\\n\\nTASK 2.1 Histogram: \\n(a pop-up should appear)\")\n",
    "\n",
    "data['age'].plot.hist(bins=50)  # Adjust the number of bins as needed\n",
    "plt.title('Age Distribution')\n",
    "plt.xlabel('Age')\n",
    "plt.ylabel('Frequency')\n",
    "plt.show()"
   ]
  },
  {
   "cell_type": "markdown",
   "id": "68d460ac-e977-4e31-9a06-242781d35a06",
   "metadata": {},
   "source": [
    "Task 3 (10 Marks): There are missing values in this dataset that are entered as a ? , check for and display the number of these missing values.\n",
    "\n",
    "Task 3.1: Replace the ? character missing values you found in the previous step with null (nan), and run a .isna().sum() on your dataframe."
   ]
  },
  {
   "cell_type": "code",
   "execution_count": 4,
   "id": "9a4757fe-5c93-472e-9646-b6531631705b",
   "metadata": {},
   "outputs": [
    {
     "name": "stdout",
     "output_type": "stream",
     "text": [
      "\n",
      "TASK 3\n",
      "\n",
      "age                  0\n",
      "workclass         1836\n",
      "fnlwgt               0\n",
      "education            0\n",
      "education-num        0\n",
      "marital-status       0\n",
      "occupation        1843\n",
      "relationship         0\n",
      "race                 0\n",
      "sex                  0\n",
      "capital-gain         0\n",
      "capital-loss         0\n",
      "hours-per-week       0\n",
      "native-country     583\n",
      "income               0\n",
      "dtype: int64\n"
     ]
    }
   ],
   "source": [
    "import numpy as np # Used to convert ? to NaN for TASK 3\n",
    "\n",
    "# TASK 3\n",
    "print(\"\\nTASK 3\\n\")\n",
    "\n",
    "# Convert '?' to NaN to make it easier to count missing values\n",
    "data.replace('?', np.nan, inplace=True)\n",
    "\n",
    "# Now we can count the number of NaN values in each column\n",
    "missing_values_count = data.isna().sum()\n",
    "\n",
    "# Display the number of missing values for each column\n",
    "print(missing_values_count)\n"
   ]
  },
  {
   "cell_type": "markdown",
   "id": "c9a29833-8f55-45a7-88ab-225f6db037eb",
   "metadata": {},
   "source": [
    "Task 4 (5 Marks): Check for duplicate rows, and remove them."
   ]
  },
  {
   "cell_type": "code",
   "execution_count": 5,
   "id": "2a29dc57-36e0-41c5-9918-379245b9ccbd",
   "metadata": {},
   "outputs": [
    {
     "name": "stdout",
     "output_type": "stream",
     "text": [
      "\n",
      "TASK 4\n",
      "\n",
      "Number of duplicate rows: 24\n"
     ]
    }
   ],
   "source": [
    "# TASK 4\n",
    "print(\"\\nTASK 4\\n\")\n",
    "\n",
    "# Check for duplicate rows\n",
    "duplicate_rows = data.duplicated()\n",
    "\n",
    "# Count the number of duplicate rows\n",
    "num_duplicate_rows = duplicate_rows.sum()\n",
    "\n",
    "# Remove duplicate rows\n",
    "cleaned_data = data.drop_duplicates()\n",
    "data = cleaned_data\n",
    "\n",
    "# Print the number of duplicate rows found\n",
    "print(\"Number of duplicate rows:\", num_duplicate_rows)\n"
   ]
  },
  {
   "cell_type": "markdown",
   "id": "98608705-0fad-4baa-adbc-2cfc44c4359f",
   "metadata": {},
   "source": [
    "Task 5 (10 Marks): Create and apply a preprocessing pipeline to:\n",
    "1. Fill in the missing numerical values with the mean using a SimpleImputer.\n",
    "2. Scale the numerical columns using StandardScaler. Do not scale the target.\n",
    "3. Fill in the missing categorical values with the most_frequent value using\n",
    "SimpleImputer.\n",
    "4. Encode the categorical columns using OneHotEncoder. Do not encode the target.\n",
    "- Display your pipeline.\n",
    "- Print your dataframe .shape.\n",
    "Tip: Your dataframe.shape at this point should be (32537, 106)."
   ]
  },
  {
   "cell_type": "code",
   "execution_count": 6,
   "id": "e3cc97e1-6619-4e51-b973-7111355d5060",
   "metadata": {},
   "outputs": [
    {
     "name": "stdout",
     "output_type": "stream",
     "text": [
      "\n",
      "TASK 5\n",
      "\n",
      "ColumnTransformer(transformers=[('num',\n",
      "                                 Pipeline(steps=[('imputer', SimpleImputer()),\n",
      "                                                 ('scaler', StandardScaler())]),\n",
      "                                 Index(['age', 'fnlwgt', 'education-num', 'capital-gain', 'capital-loss',\n",
      "       'hours-per-week'],\n",
      "      dtype='object')),\n",
      "                                ('cat',\n",
      "                                 Pipeline(steps=[('imputer',\n",
      "                                                  SimpleImputer(strategy='most_frequent')),\n",
      "                                                 ('encoder',\n",
      "                                                  OneHotEncoder(handle_unknown='ignore'))]),\n",
      "                                 Index(['workclass', 'education', 'marital-status', 'occupation',\n",
      "       'relationship', 'race', 'sex', 'native-country'],\n",
      "      dtype='object'))])\n",
      "Dataframe shape after preprocessing and including the target column: (32537, 106)\n"
     ]
    }
   ],
   "source": [
    "## TASK 5\n",
    "print(\"\\nTASK 5\\n\")\n",
    "\n",
    "from sklearn.compose import ColumnTransformer\n",
    "from sklearn.pipeline import Pipeline\n",
    "from sklearn.impute import SimpleImputer\n",
    "from sklearn.preprocessing import StandardScaler, OneHotEncoder\n",
    "\n",
    "# Load the dataset (assuming 'data' has already been loaded with the correct columns)\n",
    "# data = pd.read_csv(url, names=column_names, skipinitialspace=True)\n",
    "\n",
    "# Handling the target column (assuming 'income' is the target)\n",
    "target = 'income'\n",
    "\n",
    "# Separating the features from the target\n",
    "X = data.drop(columns=[target])\n",
    "y = data[target]\n",
    "\n",
    "# Identifying numerical and categorical columns (excluding the target column)\n",
    "numerical_cols = X.select_dtypes(include=['int64', 'float64']).columns\n",
    "categorical_cols = X.select_dtypes(include=['object', 'category']).columns\n",
    "\n",
    "# Pipeline for numerical features\n",
    "numerical_pipeline = Pipeline(steps=[\n",
    "    ('imputer', SimpleImputer(strategy='mean')),\n",
    "    ('scaler', StandardScaler())\n",
    "])\n",
    "\n",
    "# Pipeline for categorical features\n",
    "categorical_pipeline = Pipeline(steps=[\n",
    "    ('imputer', SimpleImputer(strategy='most_frequent')),\n",
    "    ('encoder', OneHotEncoder(handle_unknown='ignore'))\n",
    "])\n",
    "\n",
    "# Combining pipelines with ColumnTransformer\n",
    "preprocessor = ColumnTransformer(transformers=[\n",
    "    ('num', numerical_pipeline, numerical_cols),\n",
    "    ('cat', categorical_pipeline, categorical_cols)\n",
    "])\n",
    "\n",
    "# Applying the preprocessing pipeline\n",
    "X_preprocessed = preprocessor.fit_transform(X)\n",
    "\n",
    "# Convert the preprocessed data back into a DataFrame for easier handling\n",
    "columns_transformed = preprocessor.get_feature_names_out()\n",
    "X_preprocessed_df = pd.DataFrame(X_preprocessed.toarray(), columns=columns_transformed)\n",
    "\n",
    "# Reattach the target column to meet the requirement of having 106 columns\n",
    "X_preprocessed_with_target = pd.concat([X_preprocessed_df, y.reset_index(drop=True)], axis=1)\n",
    "\n",
    "# Printing the pipeline for display\n",
    "print(preprocessor)\n",
    "\n",
    "# Print the dataframe's shape after preprocessing and including the target column\n",
    "print('Dataframe shape after preprocessing and including the target column:', X_preprocessed_with_target.shape)\n"
   ]
  },
  {
   "cell_type": "markdown",
   "id": "e018928e-4af1-47ff-a445-e485357d8671",
   "metadata": {},
   "source": [
    "Task 6 (5 Marks): Print out the target value_counts(). Check if the target needs any kind\n",
    "of data cleaning. For example, suppose your target has labels that look like <=50K. and <=50K, in\n",
    "which case you will need to remove the . from the first value, and replace all the instances that\n",
    "are <=50K. with <=50K ."
   ]
  },
  {
   "cell_type": "code",
   "execution_count": 7,
   "id": "58253794-b788-4893-8e2a-53dadddaf20a",
   "metadata": {},
   "outputs": [
    {
     "name": "stdout",
     "output_type": "stream",
     "text": [
      "\n",
      "TASK 6\n",
      "\n",
      "income\n",
      "<=50K    24698\n",
      ">50K      7839\n",
      "Name: count, dtype: int64\n",
      "income\n",
      "<=50K    24698\n",
      ">50K      7839\n",
      "Name: count, dtype: int64\n"
     ]
    }
   ],
   "source": [
    "# TASK 6\n",
    "print(\"\\nTASK 6\\n\")\n",
    "\n",
    "# Print out initial value counts for the 'income' column to check for inconsistencies\n",
    "print(data['income'].value_counts())\n",
    "\n",
    "# Clean up inconsistencies in the 'income' column if necessary\n",
    "data['income'] = data['income'].str.replace('.', '')\n",
    "\n",
    "# Verify the cleanup by printing the value counts again\n",
    "print(data['income'].value_counts())\n"
   ]
  },
  {
   "cell_type": "markdown",
   "id": "e595c396-fdfc-43b8-931e-9aa8c492ff53",
   "metadata": {},
   "source": [
    "Task 7 (10 Marks): Split the data into 80% training set and 20% testing set, print the shape of X_train, X_test, y_train, y_test in one command.\n",
    "\n",
    "Tip: Shapes should be (26029, 105) (26029,) (6508, 105) (6508,)."
   ]
  },
  {
   "cell_type": "code",
   "execution_count": 8,
   "id": "c3d86345-f2ab-44ba-844d-93b8709220cd",
   "metadata": {},
   "outputs": [
    {
     "name": "stdout",
     "output_type": "stream",
     "text": [
      "\n",
      "TASK 7\n",
      "\n",
      "(26029, 105) (26029,) (6508, 105) (6508,)\n"
     ]
    }
   ],
   "source": [
    "from sklearn.model_selection import train_test_split\n",
    "\n",
    "# TASK 7\n",
    "print(\"\\nTASK 7\\n\")\n",
    "\n",
    "# Assuming 'X_preprocessed_with_target' is the DataFrame after preprocessing which includes the target column\n",
    "# First, we separate features and the target variable again\n",
    "X_final = X_preprocessed_with_target.drop(columns=['income'])\n",
    "y_final = X_preprocessed_with_target['income']\n",
    "\n",
    "# Split the data into training and testing sets (80% train, 20% test)\n",
    "X_train, X_test, y_train, y_test = train_test_split(X_final, y_final, test_size=0.20, random_state=42)\n",
    "\n",
    "# Print the shapes of the train/test sets in one command\n",
    "print(X_train.shape, y_train.shape, X_test.shape, y_test.shape)\n"
   ]
  },
  {
   "cell_type": "markdown",
   "id": "cd0ff8bb-1dd2-4061-b34e-3058385d6bc1",
   "metadata": {},
   "source": [
    "Task 8 (25 Marks): Train a svm classifier (svc) to predict if the income of the adult exceeds 50K on the training set using: kernel = rbf, gamma = 1, and C =0.1.\n",
    "\n",
    "Note due to the large training dataset size, this will take some time.\n",
    "\n",
    "Task 8.1: Test your model on the X_Test, and report the classification_report on the\n",
    "y_test and y_predict.\n",
    "\n",
    "Task 8.2: Plot the confusion matrix of your test results using ConfusionMatrixDisplay.from_predictions(y_test, y_predict)\n",
    "\n",
    "Task 8.3: Repeat Tasks 8.1 and 8.2 with C=1. Repeat both tasks again with C=10.\n",
    "\n",
    "Compare and discuss the results. What was the effect of changing the value of C? Which C value will you choose for the final model and why? Answer this question in a markdown cell in your notebook."
   ]
  },
  {
   "cell_type": "code",
   "execution_count": 1,
   "id": "283c0bbf-2799-41f7-9b72-40f8864f9edc",
   "metadata": {},
   "outputs": [
    {
     "name": "stdout",
     "output_type": "stream",
     "text": [
      "\n",
      "TASK 8\n",
      "\n",
      "\n",
      "Training with C = 0.1\n",
      "\n"
     ]
    },
    {
     "ename": "NameError",
     "evalue": "name 'x_train' is not defined",
     "output_type": "error",
     "traceback": [
      "\u001b[0;31m---------------------------------------------------------------------------\u001b[0m",
      "\u001b[0;31mNameError\u001b[0m                                 Traceback (most recent call last)",
      "Cell \u001b[0;32mIn[1], line 15\u001b[0m\n\u001b[1;32m     13\u001b[0m \u001b[38;5;28mprint\u001b[39m(\u001b[38;5;124mf\u001b[39m\u001b[38;5;124m\"\u001b[39m\u001b[38;5;130;01m\\n\u001b[39;00m\u001b[38;5;124mTraining with C = \u001b[39m\u001b[38;5;132;01m{\u001b[39;00mC\u001b[38;5;132;01m}\u001b[39;00m\u001b[38;5;130;01m\\n\u001b[39;00m\u001b[38;5;124m\"\u001b[39m)\n\u001b[1;32m     14\u001b[0m svm_clf \u001b[38;5;241m=\u001b[39m SVC(kernel\u001b[38;5;241m=\u001b[39m\u001b[38;5;124m'\u001b[39m\u001b[38;5;124mrbf\u001b[39m\u001b[38;5;124m'\u001b[39m, gamma\u001b[38;5;241m=\u001b[39m\u001b[38;5;241m1\u001b[39m, C\u001b[38;5;241m=\u001b[39mC)\n\u001b[0;32m---> 15\u001b[0m svm_clf\u001b[38;5;241m.\u001b[39mfit(\u001b[43mx_train\u001b[49m, y_train)\n\u001b[1;32m     17\u001b[0m \u001b[38;5;66;03m# TASK 8.1: Test your model and report\u001b[39;00m\n\u001b[1;32m     18\u001b[0m y_predict \u001b[38;5;241m=\u001b[39m svm_clf\u001b[38;5;241m.\u001b[39mpredict(X_test)\n",
      "\u001b[0;31mNameError\u001b[0m: name 'x_train' is not defined"
     ]
    }
   ],
   "source": [
    "\n",
    "from sklearn.svm import SVC\n",
    "from sklearn.metrics import classification_report, ConfusionMatrixDisplay\n",
    "import matplotlib.pyplot as plt\n",
    "\n",
    "#TASK 8\n",
    "print(\"\\nTASK 8\\n\")\n",
    "\n",
    "# List of C values to iterate over\n",
    "C_values = [0.1, 1, 10]\n",
    "\n",
    "# Train, predict, and evaluate for each C value\n",
    "for C in C_values:\n",
    "    print(f\"\\nTraining with C = {C}\\n\")\n",
    "    svm_clf = SVC(kernel='rbf', gamma=1, C=C)\n",
    "    svm_clf.fit(X_train, y_train)\n",
    "    \n",
    "    # TASK 8.1: Test your model and report\n",
    "    y_predict = svm_clf.predict(X_test)\n",
    "    print(f\"Classification Report for C = {C}:\\n\")\n",
    "    print(classification_report(y_test, y_predict))\n",
    "    \n",
    "    # TASK 8.2: Plot the confusion matrix\n",
    "    print(f\"Confusion Matrix for C = {C}:\\n\")\n",
    "    ConfusionMatrixDisplay.from_predictions(y_test, y_predict)\n",
    "    plt.title(f'Confusion Matrix (C = {C})')\n",
    "    plt.show()\n"
   ]
  },
  {
   "cell_type": "markdown",
   "id": "676423c4-bafb-45e0-9e03-2359d210847e",
   "metadata": {},
   "source": [
    "Here I used a for loop to change the value of C from 0.1 to 1 to 10."
   ]
  },
  {
   "cell_type": "markdown",
   "id": "3a10b659-3d7b-4a19-9412-9ecfdae884b4",
   "metadata": {},
   "source": [
    "The effect of changing the value of C..."
   ]
  },
  {
   "cell_type": "code",
   "execution_count": null,
   "id": "396bea16-7e58-4b82-b983-b1f1004d541c",
   "metadata": {},
   "outputs": [],
   "source": []
  }
 ],
 "metadata": {
  "kernelspec": {
   "display_name": "Python 3 (ipykernel)",
   "language": "python",
   "name": "python3"
  },
  "language_info": {
   "codemirror_mode": {
    "name": "ipython",
    "version": 3
   },
   "file_extension": ".py",
   "mimetype": "text/x-python",
   "name": "python",
   "nbconvert_exporter": "python",
   "pygments_lexer": "ipython3",
   "version": "3.12.2"
  }
 },
 "nbformat": 4,
 "nbformat_minor": 5
}
